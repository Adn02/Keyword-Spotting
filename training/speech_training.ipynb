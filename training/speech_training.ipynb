{
 "cells": [
  {
   "cell_type": "markdown",
   "id": "b817c33f",
   "metadata": {},
   "source": [
    "<small>\n",
    "!/usr/bin/env python\n",
    " coding: utf-8\n",
    "\n",
    "Basic Steps\n",
    "\n",
    "1. Run a baseline training script to build a speech commands model.\n",
    "2. Add in your custom word to the training and test/validation sets.\n",
    "   - Modify labels, shape of your output tensor in the model.\n",
    "   - Make sure that feature extractor for the model aligns with the feature extractor \n",
    "     used in the arduino code.\n",
    "3. Re-train model. => TF Model using floating-point numbers, that recognizes Google word and custom word.\n",
    "4. Quantize the model and convert to TFlite. => keyword_model.tflite file\n",
    "5. Convert tflite to .c file, using xxd => model_data.cc\n",
    "6. Replace contents of existing micro_features_model.cpp with output of xxd.\n",
    "\n",
    "All of the above steps are done in this notebook for the commands 'left', 'right'.\n",
    "\n",
    "7. In micro_speech.ino, modify micro_op_resolver (around line 80) to add any necessary operations (DIFF_FROM_LECTURE)\n",
    "8. In micro_features_model_settings.h, modify kSilenceIndex and kUnknownIndex, depending on where you have them in commands.  \n",
    "   - Commands = ['left', 'right', '_silence', '_unknown'] => kSilenceIndex=2, kUnknownIndex=3\n",
    "9. In micro_features_model_settings.cpp, modify kCategoryLabels to correspond to commands in this script.\n",
    "10. In micro_features_micro_model_settings.h, set kFeatureSliceDurationMs, kFeatureSliceStrideMs to match what is passed to microfrontend as window_size, window_step, respectively.\n",
    "11. Rebuild Arduino program, run it, recognize the two target words.\n",
    "12. Experiment with model architecture, training parameters/methods, augmentation, more data-gathering, etc.\n",
    " \n",
    "\n",
    "You can download the data set with this command line (or just a browser):\n",
    " \n",
    "`wget http://download.tensorflow.org/data/speech_commands_v0.02.tar.gz `</small>\n"
   ]
  },
  {
   "cell_type": "code",
   "execution_count": null,
   "id": "6a3b460a",
   "metadata": {
    "metadata": {}
   },
   "outputs": [],
   "source": [
    "def in_notebook():\n",
    "  \"\"\"\n",
    "  Test if we are in a python script vs jupyter notebook.\n",
    "  Returns True if called in a jupyter notebook, false if called in a standard python file\n",
    "  taken from https://stackoverflow.com/questions/15411967/how-can-i-check-if-code-is-executed-in-the-ipython-notebook\n",
    "  \"\"\"\n",
    "  import __main__ as main\n",
    "  return not hasattr(main, '__file__')"
   ]
  },
  {
   "cell_type": "code",
   "execution_count": 251,
   "id": "38baccf6-3ecb-430a-9360-1d0a03f06a48",
   "metadata": {
    "metadata": {}
   },
   "outputs": [
    {
     "name": "stdout",
     "output_type": "stream",
     "text": [
      "2.10.0\n"
     ]
    }
   ],
   "source": [
    "# TensorFlow and tf.keras\n",
    "import tensorflow as tf\n",
    "from tensorflow.keras import layers, models\n",
    "# from tensorflow.keras.layers.experimental import preprocessing\n",
    "from tensorflow.lite.experimental.microfrontend.python.ops import audio_microfrontend_op as frontend_op\n",
    "print(tf.__version__)\n",
    "\n",
    "# Helper libraries\n",
    "import numpy as np\n",
    "import random\n",
    "import matplotlib.pyplot as plt\n",
    "import seaborn as sns\n",
    "import time\n",
    "\n",
    "# if in_notebook:\n",
    "#   from tqdm.notebook import tqdm\n",
    "# else:\n",
    "#   from tqdm import tqdm \n",
    "\n",
    "import os\n",
    "import pathlib\n",
    "\n",
    "from datetime import datetime as dt\n",
    "\n",
    "from IPython import display\n",
    "\n",
    "import platform"
   ]
  },
  {
   "cell_type": "code",
   "execution_count": null,
   "id": "8134d82b-6961-42be-9f19-11a2f06ecd6f",
   "metadata": {
    "metadata": {}
   },
   "outputs": [],
   "source": [
    "# Set seed for experiment reproducibility\n",
    "seed = 42\n",
    "tf.random.set_seed(seed)\n",
    "np.random.seed(seed)"
   ]
  },
  {
   "cell_type": "code",
   "execution_count": null,
   "id": "2c447510-aabb-4b94-aa4b-5d96cca20465",
   "metadata": {
    "metadata": {}
   },
   "outputs": [],
   "source": [
    "# Define range of 16-bit integers\n",
    "i16min = -2**15\n",
    "i16max = 2**15-1\n",
    "fsamp = 16000 # sampling rate\n",
    "wave_length_ms = 1000 # 1000 => 1 sec of audio\n",
    "wave_length_samps = int(wave_length_ms*fsamp/1000)\n",
    "\n",
    "# you can change these next three\n",
    "window_size_ms = 60 \n",
    "window_step_ms = 40\n",
    "num_filters = 32\n",
    "batch_size = 64\n",
    "use_microfrontend = True # recommended, but you can use another feature extractor if you like\n",
    "\n",
    "## uncomment exactly one of these \n",
    "dataset = 'mini-speech'\n",
    "# dataset = 'full-speech-files' # use the full speech commands stored as files \n",
    "\n",
    "commands = ['imposter', 'down'] ## Change this line for your custom keywords\n",
    "\n",
    "silence_str = \"_silence\"  # label for <no speech detected>\n",
    "unknown_str = \"_unknown\"  # label for <speech detected but not one of the target words>\n",
    "EPOCHS = 50\n",
    "\n",
    "print(f\"FFT window length = {int(window_size_ms * fsamp / 1000)}\")\n",
    "\n",
    "might_be = {True:\"IS\", False:\"IS NOT\"} # useful for formatting conditional sentences"
   ]
  },
  {
   "cell_type": "code",
   "execution_count": null,
   "id": "963529df-f90e-4992-a956-dfe2c56be580",
   "metadata": {
    "metadata": {}
   },
   "outputs": [],
   "source": [
    "if dataset == 'mini-speech':\n",
    "  data_dir = pathlib.Path(os.path.join(os.getenv(\"USERPROFILE\"), 'Desktop/UNCC/Github/ML-for-IoT/data/mini_speech_commands'))\n",
    "  if not data_dir.exists():\n",
    "    tf.keras.utils.get_file('mini_speech_commands.zip',\n",
    "          origin=\"http://storage.googleapis.com/download.tensorflow.org/data/mini_speech_commands.zip\",\n",
    "          extract=True, cache_dir='.', cache_subdir='data')\n",
    "elif dataset == 'full-speech-files':\n",
    "  # data_dir = '/dfs/org/Holleman-Coursework/data/speech_dataset'\n",
    "  data_dir = pathlib.Path(os.path.join(os.getenv(\"USERPROFILE\"), 'Desktop/UNCC/Github/ML-for-IoT/data', 'speech_commands_files_0.2'))\n",
    "else:\n",
    "  raise RuntimeError('dataset should either be \"mini-speech\" or \"full-speech-files\"')"
   ]
  },
  {
   "cell_type": "code",
   "execution_count": null,
   "id": "aa1e4231-c4c5-4c8f-9f2a-6116bc535b8c",
   "metadata": {
    "metadata": {}
   },
   "outputs": [],
   "source": [
    "print(data_dir)"
   ]
  },
  {
   "cell_type": "code",
   "execution_count": null,
   "id": "c4916543-e74d-4bda-b708-97e3ae0df786",
   "metadata": {
    "metadata": {}
   },
   "outputs": [],
   "source": [
    "label_list = commands.copy()\n",
    "label_list.insert(0, silence_str)\n",
    "label_list.insert(1, unknown_str)\n",
    "print('label_list:', label_list)\n",
    "\n",
    "all_commands = os.listdir(data_dir)\n",
    "all_commands = [c for c in all_commands if c != \"README.md\"]\n",
    "\n",
    "target_commands = [c for c in all_commands if c in commands]\n",
    "other_commands = [c for c in all_commands if c not in commands]"
   ]
  },
  {
   "cell_type": "code",
   "execution_count": null,
   "id": "8df7d0a1",
   "metadata": {
    "metadata": {}
   },
   "outputs": [],
   "source": [
    "if dataset == 'mini-speech' or dataset == 'full-speech-files':\n",
    "    filenames = tf.io.gfile.glob(str(data_dir) + '/*/*.wav') \n",
    "    # with the next commented-out line, you can choose only files for words in label_list\n",
    "    # filenames = tf.concat([tf.io.gfile.glob(str(data_dir) + '/' + cmd + '/*') for cmd in label_list], 0)\n",
    "    # filenames = tf.random.shuffle(filenames)\n",
    "    num_samples = len(filenames)\n",
    "    print('Number of total examples:', num_samples)\n",
    "    print('Examples per target label:', [cmd + ': ' + str(len(tf.io.gfile.listdir(str(data_dir/cmd)))) for cmd in all_commands])\n",
    "    # print('Number of examples per label:', len(tf.io.gfile.listdir(str(data_dir/commands[0]))))\n",
    "    # print('Example file tensor:', filenames[0])"
   ]
  },
  {
   "cell_type": "code",
   "execution_count": null,
   "id": "3dc1e4dc",
   "metadata": {},
   "outputs": [],
   "source": [
    "max_samples_per_command = int(num_samples / len(all_commands))\n",
    "max_samples_per_unknown = int(max_samples_per_command / len(other_commands))\n",
    "\n",
    "print(f\"Max samples per target command = {max_samples_per_command} samples\")\n",
    "print(f\"Max samples per other command = {max_samples_per_unknown} samples for {len(other_commands)} total classes\")\n",
    "\n",
    "samples_per_command = {}\n",
    "for cmd in all_commands:\n",
    "    if cmd in target_commands:\n",
    "        samples_per_command[cmd] = max_samples_per_command\n",
    "    elif cmd in other_commands:\n",
    "        samples_per_command[cmd] = max_samples_per_unknown\n",
    "\n",
    "print(f\"Samples per command = {samples_per_command}\")"
   ]
  },
  {
   "cell_type": "code",
   "execution_count": null,
   "id": "04aa8ca9",
   "metadata": {},
   "outputs": [],
   "source": [
    "balanced_filenames = []\n",
    "for filename in filenames:\n",
    "    cmd = os.path.basename(os.path.dirname(filename))\n",
    "    if samples_per_command[cmd] > 0:\n",
    "        balanced_filenames.append(filename)\n",
    "        samples_per_command[cmd] -= 1\n",
    "\n",
    "filenames = tf.constant(balanced_filenames)\n",
    "filenames = tf.random.shuffle(filenames)\n",
    "\n",
    "num_samples = len(filenames)\n",
    "print(f'Number of total examples after balancing', num_samples)"
   ]
  },
  {
   "cell_type": "code",
   "execution_count": null,
   "id": "49e84aad",
   "metadata": {},
   "outputs": [],
   "source": [
    "count_filenames = [f.decode('utf-8') for f in filenames.numpy()]\n",
    "\n",
    "examples_per_label = {}\n",
    "for filename in count_filenames:\n",
    "    cmd = os.path.basename(os.path.dirname(filename))\n",
    "    examples_per_label[cmd] = examples_per_label.get(cmd, 0) + 1\n",
    "\n",
    "# Print number of examples per label\n",
    "for cmd, count in examples_per_label.items():\n",
    "    print(f\"Number of examples for label '{cmd}': {count}\")"
   ]
  },
  {
   "cell_type": "code",
   "execution_count": null,
   "id": "7a26d5c9-08ff-4f4f-8d41-56a1dd3cb37e",
   "metadata": {
    "metadata": {}
   },
   "outputs": [],
   "source": [
    "if dataset == 'mini-speech':\n",
    "  print('Using mini-speech')\n",
    "  num_train_files = int(0.8*num_samples) \n",
    "  num_val_files = int(0.1*num_samples) \n",
    "  num_test_files = num_samples - num_train_files - num_val_files\n",
    "  train_files = filenames[:num_train_files]\n",
    "  val_files = filenames[num_train_files: num_train_files + num_val_files]\n",
    "  test_files = filenames[-num_test_files:]\n",
    "elif dataset == 'full-speech-files':  \n",
    "  # the full speech-commands set lists which files are to be used\n",
    "  # as test and validation data; train with everything else\n",
    "  fname_val_files = os.path.join(data_dir, 'validation_list.txt')    \n",
    "  with open(fname_val_files) as fpi_val:\n",
    "    val_files = fpi_val.read().splitlines()\n",
    "  # validation_list.txt only lists partial paths\n",
    "  val_files = [os.path.join(data_dir, fn) for fn in val_files]\n",
    "  fname_test_files = os.path.join(data_dir, 'testing_list.txt')\n",
    "\n",
    "  with open(fname_test_files) as fpi_tst:\n",
    "    test_files = fpi_tst.read().splitlines()\n",
    "  # testing_list.txt only lists partial paths\n",
    "  test_files = [os.path.join(data_dir, fn).rstrip() for fn in test_files]    \n",
    "\n",
    "  # convert the TF tensor filenames into an array of strings so we can use basic python constructs\n",
    "  train_files = [f.decode('utf8') for f in filenames.numpy()]\n",
    "  # don't train with the _background_noise_ files; exclude when directory name starts with '_'\n",
    "  # train_files = [f for f in train_files if f.split('/')[-2][0] != '_']\n",
    "  # validation and test files are listed explicitly in *_list.txt; train with everything else\n",
    "  train_files = list(set(train_files) - set(test_files) - set(val_files))\n",
    "  # now convert back into a TF tensor so we can use the tf.dataset pipeline\n",
    "  train_files = tf.constant(train_files)    \n",
    "  print(\"full-speech-files is in progress.  Good luck!\")\n",
    "elif dataset == 'full-speech-ds':  \n",
    "    print(\"Using full-speech-ds. This is in progress.  Good luck!\")\n",
    "else:\n",
    "  raise ValueError(\"dataset must be either full-speech-files, full-speech-ds or mini-speech\")\n",
    "print('Training set size', len(train_files))\n",
    "print('Validation set size', len(val_files))\n",
    "print('Test set size', len(test_files))"
   ]
  },
  {
   "cell_type": "code",
   "execution_count": null,
   "id": "a8128d07-a5ba-4a50-a4f2-9e635919719a",
   "metadata": {
    "metadata": {}
   },
   "outputs": [],
   "source": [
    "def decode_audio(audio_binary):\n",
    "  audio, _ = tf.audio.decode_wav(audio_binary)\n",
    "  return tf.squeeze(audio, axis=-1)"
   ]
  },
  {
   "cell_type": "code",
   "execution_count": null,
   "id": "2852cd87-2ca3-4a56-af11-f2a7500edcf2",
   "metadata": {
    "metadata": {}
   },
   "outputs": [],
   "source": [
    "def get_label(file_path):\n",
    "  parts = tf.strings.split(file_path, os.path.sep)\n",
    "  in_set = tf.reduce_any(parts[-2] == label_list)\n",
    "  label = tf.cond(in_set, lambda: parts[-2], lambda: tf.constant(unknown_str))\n",
    "  # print(f\"parts[-2] = {parts[-2]}, in_set = {in_set}, label = {label}\")\n",
    "  # Note: You'll use indexing here instead of tuple unpacking to enable this \n",
    "  # to work in a TensorFlow graph.\n",
    "  return  label # parts[-2]"
   ]
  },
  {
   "cell_type": "code",
   "execution_count": null,
   "id": "e9bc0fe4-7056-46d8-b305-4256ad03afeb",
   "metadata": {
    "metadata": {}
   },
   "outputs": [],
   "source": [
    "def get_waveform_and_label(file_path):\n",
    "  label = get_label(file_path)\n",
    "  audio_binary = tf.io.read_file(file_path)\n",
    "  waveform = decode_audio(audio_binary)\n",
    "  return waveform, label"
   ]
  },
  {
   "cell_type": "code",
   "execution_count": null,
   "id": "c14e56c5-23e4-48f0-bbfb-a79516d853c5",
   "metadata": {
    "metadata": {}
   },
   "outputs": [],
   "source": [
    "def get_spectrogram(waveform):\n",
    "  # Concatenate audio with padding so that all audio clips will be of the \n",
    "  # same length (16000 samples)\n",
    "  zero_padding = tf.zeros([wave_length_samps] - tf.shape(waveform), dtype=tf.int16)\n",
    "  waveform = tf.cast(0.5*waveform*(i16max-i16min), tf.int16)  # scale float [-1,+1]=>INT16\n",
    "  equal_length = tf.concat([waveform, zero_padding], 0)\n",
    "  ## Make sure these labels correspond to those used in micro_features_micro_features_generator.cpp\n",
    "  spectrogram = frontend_op.audio_microfrontend(equal_length, sample_rate=fsamp, num_channels=num_filters,\n",
    "                                    window_size=window_size_ms, window_step=window_step_ms)\n",
    "  return spectrogram\n",
    "\n",
    "# Function to convert each waveform in a set into a spectrogram, then convert those\n",
    "# back into a dataset using `from_tensor_slices`.  (We should be able to use \n",
    "# `wav_ds.map(get_spectrogram_and_label_id)`, but there is a problem with that process)."
   ]
  },
  {
   "cell_type": "code",
   "execution_count": null,
   "id": "a610028c-f48c-4b24-a767-74171b4de33f",
   "metadata": {
    "metadata": {}
   },
   "outputs": [],
   "source": [
    "def create_silence_dataset(num_waves, samples_per_wave, rms_noise_range=[0.01,0.2], silent_label=silence_str):\n",
    "    # create num_waves waveforms of white gaussian noise, with rms level drawn from rms_noise_range\n",
    "    # to act as the \"silence\" dataset\n",
    "    rng = np.random.default_rng()\n",
    "    rms_noise_levels = rng.uniform(low=rms_noise_range[0], high=rms_noise_range[1], size=num_waves)\n",
    "    rand_waves = np.zeros((num_waves, samples_per_wave), dtype=np.float32) # pre-allocate memory\n",
    "    for i in range(num_waves):\n",
    "        rand_waves[i,:] = rms_noise_levels[i]*rng.standard_normal(samples_per_wave)\n",
    "    labels = [silent_label]*num_waves\n",
    "    return tf.data.Dataset.from_tensor_slices((rand_waves, labels))  "
   ]
  },
  {
   "cell_type": "code",
   "execution_count": null,
   "id": "e3750507-4bc3-4c92-8db0-553affe47c03",
   "metadata": {
    "metadata": {}
   },
   "outputs": [],
   "source": [
    "def wavds2specds(waveform_ds, verbose=True):\n",
    "  wav, label = next(waveform_ds.as_numpy_iterator())\n",
    "  one_spec = get_spectrogram(wav)\n",
    "  one_spec = tf.expand_dims(one_spec, axis=0)  # add a 'batch' dimension at the front\n",
    "  one_spec = tf.expand_dims(one_spec, axis=-1) # add a singleton 'channel' dimension at the back    \n",
    "\n",
    "  num_waves = 0 # count the waveforms so we can allocate the memory\n",
    "  for wav, label in waveform_ds:\n",
    "    num_waves += 1\n",
    "  print(f\"About to create spectrograms from {num_waves} waves\")\n",
    "  spec_shape = (num_waves,) + one_spec.shape[1:] \n",
    "  spec_grams = np.nan * np.zeros(spec_shape)  # allocate memory\n",
    "  labels = np.nan * np.zeros(num_waves)\n",
    "  idx = 0\n",
    "  for wav, label in waveform_ds:    \n",
    "    if verbose and idx % 250 == 0:\n",
    "      print(f\"\\r {idx} wavs processed\", end='')\n",
    "    spectrogram = get_spectrogram(wav)\n",
    "    # TF conv layer expect inputs structured as 4D (batch_size, height, width, channels)\n",
    "    # the microfrontend returns 2D tensors (freq, time), so we need to \n",
    "    spectrogram = tf.expand_dims(spectrogram, axis=0)  # add a 'batch' dimension at the front\n",
    "    spectrogram = tf.expand_dims(spectrogram, axis=-1) # add a singleton 'channel' dimension at the back\n",
    "    spec_grams[idx, ...] = spectrogram\n",
    "    new_label = label.numpy().decode('utf8')\n",
    "    new_label_id = np.argmax(new_label == np.array(label_list))    \n",
    "    labels[idx] = new_label_id # for numeric labels\n",
    "    # labels.append(new_label) # for string labels\n",
    "    idx += 1\n",
    "  labels = np.array(labels, dtype=int)\n",
    "  output_ds = tf.data.Dataset.from_tensor_slices((spec_grams, labels))  \n",
    "  return output_ds"
   ]
  },
  {
   "cell_type": "code",
   "execution_count": null,
   "id": "1fb97851-c090-4528-9723-f8e44b47d2c4",
   "metadata": {
    "metadata": {}
   },
   "outputs": [],
   "source": [
    "AUTOTUNE = tf.data.experimental.AUTOTUNE\n",
    "num_train_files = len(train_files)\n",
    "files_ds = tf.data.Dataset.from_tensor_slices(train_files)\n",
    "waveform_ds = files_ds.map(get_waveform_and_label, num_parallel_calls=AUTOTUNE)\n",
    "train_ds = wavds2specds(waveform_ds)"
   ]
  },
  {
   "cell_type": "code",
   "execution_count": null,
   "id": "89748efb",
   "metadata": {
    "metadata": {}
   },
   "outputs": [],
   "source": [
    "import matplotlib.pyplot as plt\n",
    "\n",
    "# Create a dictionary where the keys are labels and the values are lists of waveforms\n",
    "waveforms_by_label = {}\n",
    "for audio, label in waveform_ds:\n",
    "    label_str = label.numpy().decode('utf-8')\n",
    "    if label_str not in waveforms_by_label:\n",
    "        waveforms_by_label[label_str] = []\n",
    "    if len(waveforms_by_label[label_str]) < 3:\n",
    "        waveforms_by_label[label_str].append(audio.numpy())\n",
    "\n",
    "# Determine the number of rows and columns for the plot\n",
    "num_labels = len(waveforms_by_label)\n",
    "rows = num_labels\n",
    "cols = 3  # We want to display 3 examples for each label\n",
    "\n",
    "# Create the plot\n",
    "fig, axes = plt.subplots(rows, cols, figsize=(10, 12))\n",
    "for i, (label, waveforms) in enumerate(waveforms_by_label.items()):\n",
    "    for j in range(3):\n",
    "        ax = axes[i][j]\n",
    "        ax.plot(waveforms[j])\n",
    "        ax.set_yticks(np.arange(-1.2, 1.2, 0.2))\n",
    "        ax.set_title(label)\n",
    "\n",
    "plt.show()"
   ]
  },
  {
   "cell_type": "code",
   "execution_count": null,
   "id": "8ece84dd-3b49-426d-bde4-6292b0c3c320",
   "metadata": {
    "metadata": {}
   },
   "outputs": [],
   "source": [
    "def copy_with_noise(ds_input, rms_level=0.25):\n",
    "  rng = tf.random.Generator.from_seed(1234)\n",
    "  wave_shape = tf.constant((wave_length_samps,))\n",
    "  def add_noise(waveform, label):\n",
    "    noise = rms_level*rng.normal(shape=wave_shape)\n",
    "    zero_padding = tf.zeros([wave_length_samps] - tf.shape(waveform), dtype=tf.float32)\n",
    "    waveform = tf.concat([waveform, zero_padding], 0)    \n",
    "    noisy_wave = waveform + noise\n",
    "    return noisy_wave, label\n",
    "\n",
    "  return ds_input.map(add_noise)"
   ]
  },
  {
   "cell_type": "code",
   "execution_count": null,
   "id": "5fda62a5-e3bc-41dd-b194-63d4e4660443",
   "metadata": {
    "metadata": {}
   },
   "outputs": [],
   "source": [
    "def pad_16000(waveform, label):\n",
    "    zero_padding = tf.zeros([wave_length_samps] - tf.shape(waveform), dtype=tf.float32)\n",
    "    waveform = tf.concat([waveform, zero_padding], 0)        \n",
    "    return waveform, label"
   ]
  },
  {
   "cell_type": "code",
   "execution_count": null,
   "id": "40f07bfe-942f-47f9-bcd0-8b6f954a793f",
   "metadata": {
    "metadata": {}
   },
   "outputs": [],
   "source": [
    "def count_labels(dataset):\n",
    "    counts = {}\n",
    "    for sample in dataset: # sample will be a tuple: (input, label) or (input, label, weight)\n",
    "        lbl = sample[1]\n",
    "        if lbl.dtype == tf.string:\n",
    "            label = lbl.numpy().decode('utf-8')\n",
    "        else:\n",
    "            label = lbl.numpy()\n",
    "        if label in counts:\n",
    "            counts[label] += 1\n",
    "        else:\n",
    "            counts[label] = 1\n",
    "    return counts"
   ]
  },
  {
   "cell_type": "code",
   "execution_count": null,
   "id": "d272bb70-0bb9-4703-a049-a2f836f6e1b5",
   "metadata": {
    "metadata": {}
   },
   "outputs": [],
   "source": [
    "def is_batched(ds):\n",
    "    ## This is probably not very robust\n",
    "    try:\n",
    "        ds.unbatch()  # does not actually change ds. For that we would ds=ds.unbatch()\n",
    "    except:\n",
    "        return False # we'll assume that the error on unbatching is because the ds is not batched.\n",
    "    else:\n",
    "        return True  # if we were able to unbatch it then it must have been batched (??)"
   ]
  },
  {
   "cell_type": "code",
   "execution_count": null,
   "id": "c32630fa-f680-4795-8748-a33ea66fdc38",
   "metadata": {
    "metadata": {}
   },
   "outputs": [],
   "source": [
    "# Collect what we did to generate the training dataset into a \n",
    "# function, so we can repeat with the validation and test sets.\n",
    "def preprocess_dataset(files, num_silent=None, noisy_reps_of_known=None):\n",
    "  # if noisy_reps_of_known is not None, it should be a list of rms noise levels\n",
    "  # For every target word in the data set, 1 copy will be created with each level \n",
    "  # of noise added to it.  So [0.1, 0.2] will add 2x noisy copies of the target words \n",
    "  if num_silent is None:\n",
    "    num_silent = int(0.3*len(files))+1\n",
    "  print(f\"\\nProcessing {len(files)} files\")\n",
    "  files_ds = tf.data.Dataset.from_tensor_slices(files)\n",
    "  waveform_ds = files_ds.map(get_waveform_and_label)\n",
    "\n",
    "# Print the size of the dataset before applying noisy_reps_of_known\n",
    "  print(f\"Size of the dataset before applying noisy_reps_of_known: {len(list(waveform_ds))}\")\n",
    "\n",
    "  if noisy_reps_of_known is not None:\n",
    "    # create a few copies of only the target words to balance the distribution\n",
    "    # create a tmp dataset with only the target words\n",
    "    ds_only_cmds = waveform_ds.filter(lambda w,l: tf.reduce_any(l == commands))\n",
    "    for noise_level in noisy_reps_of_known:\n",
    "      waveform_ds = waveform_ds.concatenate(copy_with_noise(ds_only_cmds, rms_level=noise_level))\n",
    "  \n",
    "  print(f\"Size of the dataset after applying noisy_reps_of_known: {len(list(waveform_ds))}\")\n",
    "\n",
    "  if num_silent > 0:\n",
    "    # silent_wave_ds = create_silence_dataset(num_silent, wave_length_samps, \n",
    "    #                                         rms_noise_range=[0.01,0.2], \n",
    "    #                                         silent_label=silence_str)\n",
    "    silent_wave_ds = create_silence_dataset(num_silent, wave_length_samps, silent_label=silence_str)\n",
    "    waveform_ds = waveform_ds.concatenate(silent_wave_ds)\n",
    "  print(f\"Added {num_silent} silent wavs and ?? noisy wavs\")\n",
    "  num_waves = 0\n",
    "  output_ds = wavds2specds(waveform_ds)\n",
    "  print('\\n')\n",
    "  return output_ds"
   ]
  },
  {
   "cell_type": "code",
   "execution_count": null,
   "id": "7bb3cf39-2682-4409-bdb0-32085d347da0",
   "metadata": {
    "metadata": {}
   },
   "outputs": [],
   "source": [
    "print(f\"We have {len(train_files)}/{len(val_files)}/{len(test_files)} training/validation/test files\")"
   ]
  },
  {
   "cell_type": "code",
   "execution_count": null,
   "id": "441b80a4-d363-4a44-9c41-ee459981c770",
   "metadata": {
    "metadata": {}
   },
   "outputs": [],
   "source": [
    "if tf.test.is_gpu_available():\n",
    "    device_name = '/GPU:0'\n",
    "    print('Running on GPU')\n",
    "else:\n",
    "    device_name = '/CPU:0'\n",
    "    print('Running on CPU')\n",
    "\n",
    "with tf.device(device_name):\n",
    "    train_ds = preprocess_dataset(train_files, noisy_reps_of_known=[0.05,0.1,0.15,0.2,0.25])\n",
    "    val_ds = preprocess_dataset(val_files)\n",
    "    test_ds = preprocess_dataset(test_files)"
   ]
  },
  {
   "cell_type": "code",
   "execution_count": null,
   "id": "93a52bdb",
   "metadata": {
    "metadata": {}
   },
   "outputs": [],
   "source": [
    "print(\"Training data set\")\n",
    "print(count_labels(train_ds))\n",
    "print(\"Validation data set\")\n",
    "print(count_labels(val_ds))\n",
    "print(\"Test data set\")\n",
    "print(count_labels(test_ds))"
   ]
  },
  {
   "cell_type": "code",
   "execution_count": null,
   "id": "b84078c4-6e45-4ae7-a95c-747911936113",
   "metadata": {
    "metadata": {}
   },
   "outputs": [],
   "source": [
    "train_ds = train_ds.shuffle(int(len(train_files)*4))\n",
    "val_ds = val_ds.shuffle(int(len(val_files)*1.2)+1)\n",
    "test_ds = test_ds.shuffle(int(len(test_files)*1.2)+1)\n",
    "\n",
    "train_counts = count_labels(train_ds)\n",
    "valid_counts = count_labels(val_ds)\n",
    "test_counts = count_labels(test_ds)"
   ]
  },
  {
   "cell_type": "code",
   "execution_count": null,
   "id": "7560aba6-0a00-44f1-9a53-08f72b29ea10",
   "metadata": {
    "metadata": {}
   },
   "outputs": [],
   "source": [
    "if not is_batched(train_ds):\n",
    "    train_ds = train_ds.batch(batch_size)\n",
    "if not is_batched(val_ds):\n",
    "    val_ds = val_ds.batch(batch_size)\n",
    "if not is_batched(test_ds):\n",
    "    test_ds = test_ds.batch(batch_size)\n",
    "\n",
    "train_ds = train_ds.cache().prefetch(AUTOTUNE)\n",
    "val_ds = val_ds.cache().prefetch(AUTOTUNE)\n",
    "test_ds = test_ds.cache().prefetch(AUTOTUNE)"
   ]
  },
  {
   "cell_type": "code",
   "execution_count": 254,
   "id": "05f4e53f-152e-4f97-8ef6-8521a7510c6a",
   "metadata": {
    "metadata": {}
   },
   "outputs": [
    {
     "name": "stdout",
     "output_type": "stream",
     "text": [
      "Input shape: (24, 32, 1)\n"
     ]
    }
   ],
   "source": [
    "for spectrogram, _ in train_ds.take(1):\n",
    "  # take(1) takes 1 *batch*, so we have to select the first \n",
    "  # spectrogram from it, hence the [0]\n",
    "  input_shape = spectrogram.shape[1:]  \n",
    "print('Input shape:', input_shape)\n",
    "num_labels = len(label_list)"
   ]
  },
  {
   "cell_type": "code",
   "execution_count": null,
   "id": "0617422e",
   "metadata": {
    "metadata": {}
   },
   "outputs": [],
   "source": [
    "def ConvNetV1(input_shape, num_labels):\n",
    "    model = models.Sequential([\n",
    "        layers.Input(shape=input_shape),\n",
    "        layers.Conv2D(8, 3),\n",
    "        layers.BatchNormalization(),\n",
    "        layers.Activation('relu'),\n",
    "        layers.MaxPooling2D(pool_size=(2,2)),\n",
    "        layers.Dropout(0.2),\n",
    "\n",
    "        layers.Conv2D(16, 3),\n",
    "        layers.BatchNormalization(),\n",
    "        layers.Activation('relu'),\n",
    "        layers.MaxPooling2D(pool_size=(2,2)),\n",
    "        layers.Dropout(0.1),\n",
    "\n",
    "        layers.Flatten(),\n",
    "        layers.Dense(num_labels, activation='softmax')\n",
    "    ])\n",
    "    model.compile(\n",
    "        optimizer=tf.keras.optimizers.Adam(),\n",
    "        loss=tf.keras.losses.SparseCategoricalCrossentropy(from_logits=False),\n",
    "        metrics=['accuracy'],\n",
    "    )\n",
    "    return model"
   ]
  },
  {
   "cell_type": "code",
   "execution_count": null,
   "id": "ad8742ed",
   "metadata": {},
   "outputs": [],
   "source": [
    "# Experimenting with the model\n",
    "def ConvNetV2(input_shape, num_labels):\n",
    "    model = models.Sequential([\n",
    "        layers.Input(shape=input_shape),\n",
    "        layers.Conv2D(8, 3),\n",
    "        layers.BatchNormalization(),\n",
    "        layers.Activation('relu'),\n",
    "        layers.MaxPooling2D(pool_size=(2,2)),\n",
    "        layers.Dropout(0.1),\n",
    "\n",
    "        layers.Conv2D(16, 3),\n",
    "        layers.BatchNormalization(),\n",
    "        layers.Activation('relu'),\n",
    "        layers.MaxPooling2D(pool_size=(2,2)),\n",
    "        layers.Dropout(0.1),\n",
    "\n",
    "        layers.Flatten(),\n",
    "        layers.Dense(num_labels, activation='softmax')\n",
    "    ])\n",
    "    model.compile(\n",
    "        optimizer=tf.keras.optimizers.Adam(),\n",
    "        loss=tf.keras.losses.SparseCategoricalCrossentropy(from_logits=False),\n",
    "        metrics=['accuracy'],\n",
    "    )\n",
    "    return model"
   ]
  },
  {
   "cell_type": "code",
   "execution_count": null,
   "id": "073b15f4",
   "metadata": {},
   "outputs": [],
   "source": [
    "# Baseline Model\n",
    "def ConvNetV3(input_shape, num_labels):\n",
    "    model = models.Sequential([\n",
    "        layers.Input(shape=input_shape),\n",
    "        layers.Conv2D(8, 3),\n",
    "        layers.BatchNormalization(),\n",
    "        layers.Activation('relu'),\n",
    "        layers.MaxPooling2D(pool_size=(2,2)),\n",
    "        layers.Dropout(0.1),\n",
    "\n",
    "        layers.Conv2D(16, 3),\n",
    "        layers.BatchNormalization(),\n",
    "        layers.Activation('relu'),\n",
    "        layers.MaxPooling2D(pool_size=(2,2)),\n",
    "\n",
    "        layers.Conv2D(32, 3),\n",
    "        layers.BatchNormalization(),\n",
    "        layers.Activation('relu'),\n",
    "        layers.MaxPooling2D(pool_size=(2,2)),\n",
    "\n",
    "        layers.Flatten(),\n",
    "        layers.Dense(num_labels, activation='softmax')\n",
    "    ])\n",
    "    model.compile(\n",
    "        optimizer=tf.keras.optimizers.Adam(),\n",
    "        loss=tf.keras.losses.SparseCategoricalCrossentropy(from_logits=False),\n",
    "        metrics=['accuracy'],\n",
    "    )\n",
    "    return model"
   ]
  },
  {
   "cell_type": "code",
   "execution_count": 261,
   "id": "10a14d43-9011-497f-9d23-ce11c9bf5a92",
   "metadata": {
    "metadata": {}
   },
   "outputs": [],
   "source": [
    "def LSTMNet(input_shape, num_labels):\n",
    "    model = tf.keras.models.Sequential([\n",
    "        # TimeDistributed layer to process each time slice of the spectrogram\n",
    "        tf.keras.layers.Reshape((-1, 1), input_shape=input_shape),\n",
    "\n",
    "        # LSTM layers\n",
    "        tf.keras.layers.LSTM(64, return_sequences=True),\n",
    "        tf.keras.layers.LSTM(64),\n",
    "\n",
    "        # Output layer\n",
    "        layers.Dense(num_labels, activation='softmax')\n",
    "    ])\n",
    "    model.compile(\n",
    "        optimizer=tf.keras.optimizers.Adam(),\n",
    "        loss=tf.keras.losses.SparseCategoricalCrossentropy(from_logits=False),\n",
    "        metrics=['accuracy'],\n",
    "    )\n",
    "    return model"
   ]
  },
  {
   "cell_type": "code",
   "execution_count": 264,
   "id": "7d630965-cf3e-41ca-851b-33de49392cda",
   "metadata": {
    "metadata": {}
   },
   "outputs": [],
   "source": [
    "model = ConvNetV1(input_shape, num_labels)\n",
    "\n",
    "# model2 = ConvNetV2(input_shape, num_labels)\n",
    "# model3 = ConvNetV3(input_shape, num_labels)\n",
    "\n",
    "# model = LSTMNet(input_shape, num_labels)\n",
    "\n",
    "history  = model.fit(\n",
    "    train_ds,\n",
    "    validation_data=val_ds,\n",
    "    epochs=EPOCHS)\n",
    "\n",
    "# print(\"\\n\\nModel 2\")\n",
    "# history2 = model2.fit(\n",
    "#     train_ds,\n",
    "#     validation_data=val_ds,\n",
    "#     epochs=EPOCHS)\n",
    "\n",
    "# print(\"\\n\\nModel 3\")\n",
    "# history3 = model3.fit(\n",
    "#     train_ds,\n",
    "#     validation_data=val_ds,\n",
    "#     epochs=EPOCHS)"
   ]
  },
  {
   "cell_type": "code",
   "execution_count": 266,
   "id": "03deb85f",
   "metadata": {
    "metadata": {}
   },
   "outputs": [
    {
     "name": "stdout",
     "output_type": "stream",
     "text": [
      "Model: \"sequential_14\"\n",
      "_________________________________________________________________\n",
      " Layer (type)                Output Shape              Param #   \n",
      "=================================================================\n",
      " conv2d_21 (Conv2D)          (None, 22, 30, 8)         80        \n",
      "                                                                 \n",
      " batch_normalization_21 (Bat  (None, 22, 30, 8)        32        \n",
      " chNormalization)                                                \n",
      "                                                                 \n",
      " activation_21 (Activation)  (None, 22, 30, 8)         0         \n",
      "                                                                 \n",
      " max_pooling2d_21 (MaxPoolin  (None, 11, 15, 8)        0         \n",
      " g2D)                                                            \n",
      "                                                                 \n",
      " dropout_15 (Dropout)        (None, 11, 15, 8)         0         \n",
      "                                                                 \n",
      " conv2d_22 (Conv2D)          (None, 9, 13, 16)         1168      \n",
      "                                                                 \n",
      " batch_normalization_22 (Bat  (None, 9, 13, 16)        64        \n",
      " chNormalization)                                                \n",
      "                                                                 \n",
      " activation_22 (Activation)  (None, 9, 13, 16)         0         \n",
      "                                                                 \n",
      " max_pooling2d_22 (MaxPoolin  (None, 4, 6, 16)         0         \n",
      " g2D)                                                            \n",
      "                                                                 \n",
      " dropout_16 (Dropout)        (None, 4, 6, 16)          0         \n",
      "                                                                 \n",
      " flatten_9 (Flatten)         (None, 384)               0         \n",
      "                                                                 \n",
      " dense_14 (Dense)            (None, 4)                 1540      \n",
      "                                                                 \n",
      "=================================================================\n",
      "Total params: 2,884\n",
      "Trainable params: 2,836\n",
      "Non-trainable params: 48\n",
      "_________________________________________________________________\n",
      "FLOPS: 25.3 M\n"
     ]
    }
   ],
   "source": [
    "from keras_flops import get_flops\n",
    "tf.keras.utils.plot_model(model, show_shapes=True, show_layer_names=True, expand_nested=True)\n",
    "model.summary()\n",
    "\n",
    "flops = get_flops(model, batch_size=64)\n",
    "print(f\"FLOPS: {flops / 10 ** 6:.03} M\")"
   ]
  },
  {
   "cell_type": "code",
   "execution_count": null,
   "id": "2673e263-95e5-4017-89aa-ef15edc9d9c4",
   "metadata": {
    "metadata": {}
   },
   "outputs": [],
   "source": [
    "date_str = dt.now().strftime(\"%d%b%Y_%H%M\").lower()\n",
    "print(f\"Completed training at {date_str}\")"
   ]
  },
  {
   "cell_type": "code",
   "execution_count": null,
   "id": "87804c57-0919-4726-88a3-477e4d3dc8d0",
   "metadata": {
    "metadata": {}
   },
   "outputs": [],
   "source": [
    "model_file_name = f\"model.h5\" \n",
    "print(f\"Saving model to {model_file_name}\")\n",
    "model.save(model_file_name, overwrite=True)"
   ]
  },
  {
   "cell_type": "code",
   "execution_count": 267,
   "id": "65b9b68e",
   "metadata": {},
   "outputs": [
    {
     "name": "stdout",
     "output_type": "stream",
     "text": [
      "13/13 [==============================] - 0s 3ms/step\n",
      "Test set accuracy: 94.1%\n",
      "13/13 [==============================] - 0s 3ms/step\n",
      "Test set accuracy: 80.3%\n",
      "13/13 [==============================] - 0s 3ms/step\n",
      "Test set accuracy: 88.0%\n"
     ]
    }
   ],
   "source": [
    "def evaluate_model(model, test_ds):\n",
    "    test_audio = []\n",
    "    test_labels = []\n",
    "    if is_batched(test_ds):\n",
    "        was_batched=True\n",
    "        test_ds = test_ds.unbatch()\n",
    "    else:\n",
    "        was_batched=False\n",
    "    for audio, label in test_ds:\n",
    "        test_audio.append(audio.numpy())\n",
    "        test_labels.append(label.numpy())\n",
    "\n",
    "    test_audio = np.array(test_audio)\n",
    "    test_labels = np.array(test_labels)\n",
    "    \n",
    "    model_out = model.predict(test_audio)\n",
    "\n",
    "    y_pred = np.argmax(model_out, axis=1)\n",
    "    y_true = test_labels\n",
    "\n",
    "    test_acc = sum(y_pred == y_true) / len(y_true)\n",
    "    print(f'Test set accuracy: {test_acc:.1%}')\n",
    "    if was_batched:\n",
    "        test_ds = test_ds.batch(32)\n",
    "        \n",
    "    return y_pred, y_true, test_acc\n",
    "\n",
    "y_pred, y_true, test_acc = evaluate_model(model, test_ds)\n",
    "y_pred2, y_true2, test_acc2 = evaluate_model(model2, test_ds)\n",
    "y_pred3, y_true3, test_acc3 = evaluate_model(model3, test_ds)"
   ]
  },
  {
   "cell_type": "code",
   "execution_count": 253,
   "id": "1545b787",
   "metadata": {},
   "outputs": [
    {
     "data": {
      "text/plain": [
       "Text(45.581597222222214, 0.5, 'Label')"
      ]
     },
     "execution_count": 253,
     "metadata": {},
     "output_type": "execute_result"
    },
    {
     "data": {
      "image/png": "[encoded data removed]",
      "text/plain": [
       "<Figure size 600x600 with 2 Axes>"
      ]
     },
     "metadata": {},
     "output_type": "display_data"
    }
   ],
   "source": [
    "confusion_mtx = tf.math.confusion_matrix(y_true, y_pred)\n",
    "\n",
    "plt.figure(figsize=(6, 6))\n",
    "sns.heatmap(confusion_mtx, xticklabels=label_list, yticklabels=label_list, \n",
    "            annot=True, fmt='g')\n",
    "plt.gca().invert_yaxis() # flip so origin is at bottom left\n",
    "plt.xlabel('Prediction')\n",
    "plt.ylabel('Label')"
   ]
  },
  {
   "cell_type": "code",
   "execution_count": 238,
   "id": "672767dc",
   "metadata": {},
   "outputs": [
    {
     "name": "stdout",
     "output_type": "stream",
     "text": [
      "True/False positive rate for '_silence' = 0.901 / 0.0\n",
      "     False Rejection Rate for '_silence' = 0.0989011\n",
      "True/False positive rate for '_unknown' = 0.944 / 0.0211\n",
      "     False Rejection Rate for '_unknown' = 0.0560748\n",
      "True/False positive rate for 'imposter' = 0.989 / 0.00333\n",
      "     False Rejection Rate for 'imposter' = 0.010989\n",
      "True/False positive rate for 'down' = 0.931 / 0.0554\n",
      "     False Rejection Rate for 'down' = 0.0686275\n"
     ]
    }
   ],
   "source": [
    "tpr = np.nan*np.zeros(len(label_list))\n",
    "fpr = np.nan*np.zeros(len(label_list))\n",
    "fnr = np.nan*np.zeros(len(label_list))\n",
    "\n",
    "for i in range(4):\n",
    "    tpr[i]  = confusion_mtx[i,i] / np.sum(confusion_mtx[i,:])\n",
    "    fpr[i] = (np.sum(confusion_mtx[:,i]) - confusion_mtx[i,i]) / (np.sum(confusion_mtx) - np.sum(confusion_mtx[i,:]))\n",
    "    fnr[i]  = (np.sum(confusion_mtx[i,:]) - confusion_mtx[i,i]) / np.sum(confusion_mtx[i,:])\n",
    "    print(f\"True/False positive rate for '{label_list[i]}' = {tpr[i]:.3} / {fpr[i]:.3}\")\n",
    "    print(f\"     False Rejection Rate for '{label_list[i]}' = {fnr[i]:.6}\")"
   ]
  },
  {
   "cell_type": "code",
   "execution_count": 239,
   "id": "379ab7a2-eae3-40ad-bd0a-2ffc0e0a02e1",
   "metadata": {
    "metadata": {}
   },
   "outputs": [],
   "source": [
    "# confusion_mtx2 = tf.math.confusion_matrix(y_true2, y_pred2)\n",
    "\n",
    "# plt.figure(figsize=(6, 6))\n",
    "# sns.heatmap(confusion_mtx2, xticklabels=label_list, yticklabels=label_list, \n",
    "#             annot=True, fmt='g')\n",
    "# plt.gca().invert_yaxis() # flip so origin is at bottom left\n",
    "# plt.xlabel('Prediction')\n",
    "# plt.ylabel('Label')"
   ]
  },
  {
   "cell_type": "code",
   "execution_count": 240,
   "id": "9b2f2556",
   "metadata": {},
   "outputs": [],
   "source": [
    "# tpr2 = np.nan*np.zeros(len(label_list))\n",
    "# fpr2 = np.nan*np.zeros(len(label_list))\n",
    "# fnr2 = np.nan*np.zeros(len(label_list))\n",
    "\n",
    "# for i in range(4):\n",
    "#     tpr2[i]  = confusion_mtx2[i,i] / np.sum(confusion_mtx2[i,:])\n",
    "#     fpr2[i] = (np.sum(confusion_mtx2[:,i]) - confusion_mtx2[i,i]) / (np.sum(confusion_mtx2) - np.sum(confusion_mtx2[i,:]))\n",
    "#     fnr2[i]  = (np.sum(confusion_mtx2[i,:]) - confusion_mtx2[i,i]) / np.sum(confusion_mtx2[i,:])\n",
    "#     print(f\"True/False positive rate for '{label_list[i]:9}' = {tpr2[i]:.3} / {fpr2[i]:.3}\")\n",
    "#     print(f\"False Rejection Rate for '{label_list[i]:9}' = {fnr2[i]:.3}\")"
   ]
  },
  {
   "cell_type": "code",
   "execution_count": 241,
   "id": "e92633be",
   "metadata": {},
   "outputs": [],
   "source": [
    "# confusion_mtx3 = tf.math.confusion_matrix(y_true3, y_pred3)\n",
    "\n",
    "# plt.figure(figsize=(6, 6))\n",
    "# sns.heatmap(confusion_mtx3, xticklabels=label_list, yticklabels=label_list, \n",
    "#             annot=True, fmt='g')\n",
    "# plt.gca().invert_yaxis() # flip so origin is at bottom left\n",
    "# plt.xlabel('Prediction')\n",
    "# plt.ylabel('Label')"
   ]
  },
  {
   "cell_type": "code",
   "execution_count": 242,
   "id": "2977e16e",
   "metadata": {},
   "outputs": [],
   "source": [
    "# tpr3 = np.nan*np.zeros(len(label_list))\n",
    "# fpr3 = np.nan*np.zeros(len(label_list))\n",
    "# fnr3 = np.nan*np.zeros(len(label_list))\n",
    "\n",
    "# for i in range(4):\n",
    "#     tpr3[i]  = confusion_mtx3[i,i] / np.sum(confusion_mtx3[i,:])\n",
    "#     fpr3[i] = (np.sum(confusion_mtx3[:,i]) - confusion_mtx3[i,i]) / (np.sum(confusion_mtx3) - np.sum(confusion_mtx3[i,:]))\n",
    "#     fnr3[i]  = (np.sum(confusion_mtx3[i,:]) - confusion_mtx3[i,i]) / np.sum(confusion_mtx3[i,:])\n",
    "#     print(f\"True/False positive rate for '{label_list[i]:9}' = {tpr3[i]:.3} / {fpr3[i]:.3}\")\n",
    "#     print(f\"False Rejection Rate for '{label_list[i]:9}' = {fnr3[i]:.3}\")"
   ]
  },
  {
   "cell_type": "code",
   "execution_count": 243,
   "id": "8134dd39-a8b6-45bd-a0e2-0f025c461e36",
   "metadata": {
    "metadata": {}
   },
   "outputs": [],
   "source": [
    "info_file_name = model_file_name.split('.')[0] + '.txt'\n",
    "with open(info_file_name, 'w') as fpo:\n",
    "    fpo.write(f\"i16min            = {i16min           }\\n\")\n",
    "    fpo.write(f\"i16max            = {i16max           }\\n\")\n",
    "    fpo.write(f\"fsamp             = {fsamp            }\\n\")\n",
    "    fpo.write(f\"wave_length_ms    = {wave_length_ms   }\\n\")\n",
    "    fpo.write(f\"wave_length_samps = {wave_length_samps}\\n\")\n",
    "    fpo.write(f\"window_size_ms    = {window_size_ms   }\\n\")\n",
    "    fpo.write(f\"window_step_ms    = {window_step_ms   }\\n\")\n",
    "    fpo.write(f\"num_filters       = {num_filters      }\\n\")\n",
    "    fpo.write(f\"use_microfrontend = {use_microfrontend}\\n\")\n",
    "    fpo.write(f\"label_list        = {label_list}\\n\")\n",
    "    fpo.write(f\"spectrogram_shape = {spectrogram.numpy().shape}\\n\")\n",
    "    fpo.write(f\"Test set accuracy =  {test_acc:.1%}\\n\")\n",
    "    for i in range(4):\n",
    "        fpo.write(f\"tpr_{label_list[i]:9} = {tpr[i]:.3}\\n\")\n",
    "        fpo.write(f\"fpr_{label_list[i]:9} = {fpr[i]:.3}\\n\")"
   ]
  },
  {
   "cell_type": "code",
   "execution_count": 244,
   "id": "61dc3596-f01b-423b-b02c-c121fd3cfba1",
   "metadata": {
    "metadata": {}
   },
   "outputs": [],
   "source": [
    "print(f\"Wrote description to {info_file_name}\")"
   ]
  },
  {
   "cell_type": "code",
   "execution_count": 245,
   "id": "6d948d40-b6b0-4338-bc25-df52d37c7db7",
   "metadata": {
    "metadata": {}
   },
   "outputs": [
    {
     "data": {
      "image/png": "[encoded data removed]",
      "text/plain": [
       "<Figure size 800x800 with 2 Axes>"
      ]
     },
     "metadata": {},
     "output_type": "display_data"
    }
   ],
   "source": [
    "metrics = history.history\n",
    "\n",
    "plt.figure(figsize=(8, 8))\n",
    "\n",
    "# Plot training & validation loss values for all models\n",
    "plt.subplot(2, 1, 1)\n",
    "plt.plot(history.epoch, metrics['loss'], label='Training Loss')\n",
    "plt.plot(history.epoch, metrics['val_loss'], label='Validation Loss')\n",
    "plt.title('Model Loss')\n",
    "plt.ylabel('Loss')\n",
    "plt.xlabel('Epoch')\n",
    "\n",
    "# Plot training & validation accuracy values for all models\n",
    "plt.subplot(2, 1, 2)\n",
    "plt.plot(history.epoch, metrics['accuracy'], label='Training Accuracy')\n",
    "plt.plot(history.epoch, metrics['val_accuracy'], label='Validation Accuracy')\n",
    "plt.title('Model Accuracy')\n",
    "plt.ylabel('Accuracy')\n",
    "plt.xlabel('Epoch')\n",
    "\n",
    "plt.legend()\n",
    "plt.tight_layout()\n",
    "plt.show()"
   ]
  },
  {
   "cell_type": "code",
   "execution_count": 246,
   "id": "71cd1ed5",
   "metadata": {},
   "outputs": [],
   "source": [
    "# metrics2 = history2.history\n",
    "# metrics3 = history3.history\n",
    "\n",
    "# fig, axs = plt.subplots(2, 3, figsize=(14, 8))\n",
    "\n",
    "# # Model 1\n",
    "# axs[0, 0].semilogy(history.epoch, metrics['loss'], metrics['val_loss'])\n",
    "# axs[0, 0].set_title('Model 1 Loss')\n",
    "# axs[0, 0].set_ylabel('Loss')\n",
    "# axs[0, 0].set_xlabel('Epoch')\n",
    "# axs[0, 0].legend(['training', 'validation'])\n",
    "\n",
    "# axs[1, 0].plot(history.epoch, metrics['accuracy'], metrics['val_accuracy'])\n",
    "# axs[1, 0].set_title('Model 1 Accuracy')\n",
    "# axs[1, 0].set_ylabel('Accuracy')\n",
    "# axs[1, 0].set_xlabel('Epoch')\n",
    "# axs[1, 0].legend(['training', 'validation'])\n",
    "\n",
    "# # Model 2\n",
    "# axs[0, 1].semilogy(history2.epoch, metrics2['loss'], metrics2['val_loss'])\n",
    "# axs[0, 1].set_title('Model 2 Loss')\n",
    "# axs[0, 1].set_ylabel('Loss')\n",
    "# axs[0, 1].set_xlabel('Epoch')\n",
    "# axs[0, 1].legend(['training', 'validation'])\n",
    "\n",
    "# axs[1, 1].plot(history2.epoch, metrics2['accuracy'], metrics2['val_accuracy'])\n",
    "# axs[1, 1].set_title('Model 2 Accuracy')\n",
    "# axs[1, 1].set_ylabel('Accuracy')\n",
    "# axs[1, 1].set_xlabel('Epoch')\n",
    "# axs[1, 1].legend(['training', 'validation'])\n",
    "\n",
    "# # Model 3\n",
    "# axs[0, 2].semilogy(history3.epoch, metrics3['loss'], metrics3['val_loss'])\n",
    "# axs[0, 2].set_title('Model 3 Loss')\n",
    "# axs[0, 2].set_ylabel('Loss')\n",
    "# axs[0, 2].set_xlabel('Epoch')\n",
    "# axs[0, 2].legend(['training', 'validation'])\n",
    "\n",
    "# axs[1, 2].plot(history3.epoch, metrics3['accuracy'], metrics3['val_accuracy'])\n",
    "# axs[1, 2].set_title('Model 3 Accuracy')\n",
    "# axs[1, 2].set_ylabel('Accuracy')\n",
    "# axs[1, 2].set_xlabel('Epoch')\n",
    "# axs[1, 2].legend(['training', 'validation'])\n",
    "\n",
    "# plt.tight_layout()\n",
    "# plt.show()"
   ]
  },
  {
   "cell_type": "code",
   "execution_count": 247,
   "id": "f079538d",
   "metadata": {
    "metadata": {}
   },
   "outputs": [],
   "source": [
    "from keras.models import load_model\n",
    "model = load_model('model.h5')\n",
    "\n",
    "converter = tf.lite.TFLiteConverter.from_keras_model(model)\n",
    "converter.optimizations = [tf.lite.Optimize.DEFAULT]\n",
    "\n",
    "num_calibration_steps = 10\n",
    "ds_iter = val_ds.unbatch().batch(1).as_numpy_iterator()\n",
    "def representative_dataset_gen():\n",
    "    for _ in range(num_calibration_steps):\n",
    "        next_input = next(ds_iter)[0]\n",
    "        next_input = next_input.astype(np.float32)  # (DIFF_FROM_LECTURE)\n",
    "        yield [next_input]\n",
    "\n",
    "converter.optimizations = [tf.lite.Optimize.DEFAULT]\n",
    "converter.representative_dataset = representative_dataset_gen\n",
    "converter.target_spec.supported_ops = [tf.lite.OpsSet.TFLITE_BUILTINS_INT8]\n",
    "converter.inference_input_type = tf.int8  # or tf.uint8; should match dat_q in eval_quantized_model.py\n",
    "converter.inference_output_type = tf.int8  # or tf.uint8\n",
    "\n",
    "tflite_quant_model = converter.convert()\n",
    "\n",
    "file_name = 'model.tflite'\n",
    "\n",
    "with open(file_name, \"wb\") as fpo:\n",
    "  num_bytes_written = fpo.write(tflite_quant_model)\n",
    "print(f\"Wrote {num_bytes_written} / {len(tflite_quant_model)} bytes to tflite file\")"
   ]
  }
 ],
 "metadata": {
  "kernelspec": {
   "display_name": "Python 3 (ipykernel)",
   "language": "python",
   "name": "python3"
  },
  "language_info": {
   "codemirror_mode": {
    "name": "ipython",
    "version": 3
   },
   "file_extension": ".py",
   "mimetype": "text/x-python",
   "name": "python",
   "nbconvert_exporter": "python",
   "pygments_lexer": "ipython3",
   "version": "3.10.13"
  }
 },
 "nbformat": 4,
 "nbformat_minor": 5
}
